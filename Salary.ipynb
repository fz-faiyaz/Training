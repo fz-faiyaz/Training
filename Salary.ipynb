{
  "nbformat": 4,
  "nbformat_minor": 0,
  "metadata": {
    "colab": {
      "name": "Welcome To Colaboratory",
      "provenance": [],
      "collapsed_sections": [],
      "toc_visible": true
    },
    "kernelspec": {
      "display_name": "Python 3",
      "name": "python3"
    }
  },
  "cells": [
    {
      "cell_type": "code",
      "metadata": {
        "id": "4HdDOf9_Vnz4",
        "outputId": "d8a4dac1-eb5f-484a-9d61-902d293f2c86",
        "colab": {
          "base_uri": "https://localhost:8080/"
        }
      },
      "source": [
        "s=900000\n",
        "if s==300000:\n",
        "  print(\"No Tax\")\n",
        "  print(\"Salary is =\",s)\n",
        "elif s>300000 and s<500000:\n",
        " tax=0.05*s\n",
        " s=s-tax\n",
        " print(\"The tax paid is =\",tax)\n",
        " print(\"The Salary is =\",s)\n",
        "elif s>500000 and s<1000000:\n",
        " tax=0.1*s\n",
        " s=s-tax\n",
        " print(\"The tax paid is =\",tax)\n",
        " print(\"The Salary is =\",s)"
      ],
      "execution_count": 6,
      "outputs": [
        {
          "output_type": "stream",
          "text": [
            "The tax paid is = 90000.0\n",
            "The Salary is = 810000.0\n"
          ],
          "name": "stdout"
        }
      ]
    }
  ]
}